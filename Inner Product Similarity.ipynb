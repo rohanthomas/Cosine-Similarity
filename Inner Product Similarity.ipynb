{
 "cells": [
  {
   "cell_type": "code",
   "execution_count": 1,
   "metadata": {},
   "outputs": [
    {
     "name": "stdout",
     "output_type": "stream",
     "text": [
      "['hey']\n",
      "['oyy']\n"
     ]
    },
    {
     "data": {
      "text/plain": [
       "['hey']"
      ]
     },
     "execution_count": 1,
     "metadata": {},
     "output_type": "execute_result"
    }
   ],
   "source": [
    "def bow(sentence_1, sentence_2):\n",
    "    a=sentence_1.split()\n",
    "    b=sentence_2.split()\n",
    "\n",
    "    vocab=[]\n",
    "    print(a)\n",
    "    print (b)\n",
    "\n",
    "    for word in a or word in b:\n",
    "        if word not in vocab:\n",
    "            vocab.append(word)\n",
    "    return vocab\n",
    "\n",
    "bow(\"hey\",\"oyy\")\n",
    "\n"
   ]
  },
  {
   "cell_type": "markdown",
   "metadata": {},
   "source": [
    "Creating a vocabulary"
   ]
  },
  {
   "cell_type": "code",
   "execution_count": 80,
   "metadata": {},
   "outputs": [
    {
     "name": "stdout",
     "output_type": "stream",
     "text": [
      "['Enter', 'an', 'sample', 'text', 'example']\n"
     ]
    }
   ],
   "source": [
    "a=\"Enter an example text\"\n",
    "b=\"Enter an sample text\"\n",
    "w=[]\n",
    "\n",
    "for word in b.split():\n",
    "    if word in b.split() and word not in w:\n",
    "        w.append(word)\n",
    "for word in a.split():\n",
    "    if word in a.split() and word not in w:\n",
    "        w.append(word)"
   ]
  },
  {
   "cell_type": "code",
   "execution_count": 7,
   "metadata": {},
   "outputs": [
    {
     "data": {
      "text/plain": [
       "0.7999999999999998"
      ]
     },
     "execution_count": 7,
     "metadata": {},
     "output_type": "execute_result"
    }
   ],
   "source": [
    "# Refactored code (Vocab Creation)\n",
    "import numpy as np\n",
    "def similarity(sentence_1,sentence_2):\n",
    "    # Creating Vocabulary\n",
    "    a=sentence_1.split()\n",
    "    b=sentence_2.split()\n",
    "    vocab=list(set(a+b))\n",
    "\n",
    "    vector_1=[]\n",
    "    vector_2=[]\n",
    "    \n",
    "    # Creating Bag-of-Words to turn words into vec\n",
    "\n",
    "    for names in vocab:\n",
    "        vector_1.append(a.count(names))\n",
    "        vector_2.append(b.count(names))\n",
    "    \n",
    "    # Computing the inner product similairty.\n",
    "\n",
    "    sim=np.dot(vector_1,vector_2)/(np.linalg.norm(vector_1)*np.linalg.norm(vector_2))\n",
    "    return sim\n",
    "\n",
    "bow(\"Data is the new oil\", \"Data is the new business\")"
   ]
  },
  {
   "cell_type": "code",
   "execution_count": 4,
   "metadata": {},
   "outputs": [],
   "source": []
  }
 ],
 "metadata": {
  "kernelspec": {
   "display_name": "Python 3.10.8 64-bit (microsoft store)",
   "language": "python",
   "name": "python3"
  },
  "language_info": {
   "codemirror_mode": {
    "name": "ipython",
    "version": 3
   },
   "file_extension": ".py",
   "mimetype": "text/x-python",
   "name": "python",
   "nbconvert_exporter": "python",
   "pygments_lexer": "ipython3",
   "version": "3.10.8"
  },
  "orig_nbformat": 4,
  "vscode": {
   "interpreter": {
    "hash": "b5260ab4f4c0503f42ff989d03a8f41baab04218d48089fc9e9d45fe2fc4e7de"
   }
  }
 },
 "nbformat": 4,
 "nbformat_minor": 2
}
